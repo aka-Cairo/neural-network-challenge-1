{
  "cells": [
    {
      "cell_type": "markdown",
      "metadata": {
        "id": "T7ZNhGcW6q6r"
      },
      "source": [
        "# Student Loan Risk with Deep Learning"
      ]
    },
    {
      "cell_type": "code",
      "execution_count": 1,
      "metadata": {
        "id": "0otrXpJc6q6u"
      },
      "outputs": [],
      "source": [
        "# Imports\n",
        "import pandas as pd\n",
        "import tensorflow as tf\n",
        "from tensorflow.keras.layers import Dense\n",
        "from tensorflow.keras.models import Sequential\n",
        "from sklearn.model_selection import train_test_split\n",
        "from sklearn.preprocessing import StandardScaler\n",
        "from sklearn.metrics import classification_report\n",
        "from pathlib import Path"
      ]
    },
    {
      "cell_type": "markdown",
      "metadata": {
        "id": "OpV4Y-3Z6q6w"
      },
      "source": [
        "---\n",
        "\n",
        "## Prepare the data to be used on a neural network model"
      ]
    },
    {
      "cell_type": "markdown",
      "metadata": {
        "id": "TUuSzp2l6q6w"
      },
      "source": [
        "### Step 1: Read the `student-loans.csv` file into a Pandas DataFrame. Review the DataFrame, looking for columns that could eventually define your features and target variables.   "
      ]
    },
    {
      "cell_type": "code",
      "execution_count": 2,
      "metadata": {
        "colab": {
          "base_uri": "https://localhost:8080/",
          "height": 226
        },
        "id": "G65km1KD6q6x",
        "outputId": "93d12d8d-c415-4017-8452-5b4966e4dde5"
      },
      "outputs": [
        {
          "data": {
            "text/html": [
              "<div>\n",
              "<style scoped>\n",
              "    .dataframe tbody tr th:only-of-type {\n",
              "        vertical-align: middle;\n",
              "    }\n",
              "\n",
              "    .dataframe tbody tr th {\n",
              "        vertical-align: top;\n",
              "    }\n",
              "\n",
              "    .dataframe thead th {\n",
              "        text-align: right;\n",
              "    }\n",
              "</style>\n",
              "<table border=\"1\" class=\"dataframe\">\n",
              "  <thead>\n",
              "    <tr style=\"text-align: right;\">\n",
              "      <th></th>\n",
              "      <th>payment_history</th>\n",
              "      <th>location_parameter</th>\n",
              "      <th>stem_degree_score</th>\n",
              "      <th>gpa_ranking</th>\n",
              "      <th>alumni_success</th>\n",
              "      <th>study_major_code</th>\n",
              "      <th>time_to_completion</th>\n",
              "      <th>finance_workshop_score</th>\n",
              "      <th>cohort_ranking</th>\n",
              "      <th>total_loan_score</th>\n",
              "      <th>financial_aid_score</th>\n",
              "      <th>credit_ranking</th>\n",
              "    </tr>\n",
              "  </thead>\n",
              "  <tbody>\n",
              "    <tr>\n",
              "      <th>0</th>\n",
              "      <td>7.4</td>\n",
              "      <td>0.70</td>\n",
              "      <td>0.00</td>\n",
              "      <td>1.9</td>\n",
              "      <td>0.076</td>\n",
              "      <td>11.0</td>\n",
              "      <td>34.0</td>\n",
              "      <td>0.9978</td>\n",
              "      <td>3.51</td>\n",
              "      <td>0.56</td>\n",
              "      <td>9.4</td>\n",
              "      <td>0</td>\n",
              "    </tr>\n",
              "    <tr>\n",
              "      <th>1</th>\n",
              "      <td>7.8</td>\n",
              "      <td>0.88</td>\n",
              "      <td>0.00</td>\n",
              "      <td>2.6</td>\n",
              "      <td>0.098</td>\n",
              "      <td>25.0</td>\n",
              "      <td>67.0</td>\n",
              "      <td>0.9968</td>\n",
              "      <td>3.20</td>\n",
              "      <td>0.68</td>\n",
              "      <td>9.8</td>\n",
              "      <td>0</td>\n",
              "    </tr>\n",
              "    <tr>\n",
              "      <th>2</th>\n",
              "      <td>7.8</td>\n",
              "      <td>0.76</td>\n",
              "      <td>0.04</td>\n",
              "      <td>2.3</td>\n",
              "      <td>0.092</td>\n",
              "      <td>15.0</td>\n",
              "      <td>54.0</td>\n",
              "      <td>0.9970</td>\n",
              "      <td>3.26</td>\n",
              "      <td>0.65</td>\n",
              "      <td>9.8</td>\n",
              "      <td>0</td>\n",
              "    </tr>\n",
              "    <tr>\n",
              "      <th>3</th>\n",
              "      <td>11.2</td>\n",
              "      <td>0.28</td>\n",
              "      <td>0.56</td>\n",
              "      <td>1.9</td>\n",
              "      <td>0.075</td>\n",
              "      <td>17.0</td>\n",
              "      <td>60.0</td>\n",
              "      <td>0.9980</td>\n",
              "      <td>3.16</td>\n",
              "      <td>0.58</td>\n",
              "      <td>9.8</td>\n",
              "      <td>1</td>\n",
              "    </tr>\n",
              "    <tr>\n",
              "      <th>4</th>\n",
              "      <td>7.4</td>\n",
              "      <td>0.70</td>\n",
              "      <td>0.00</td>\n",
              "      <td>1.9</td>\n",
              "      <td>0.076</td>\n",
              "      <td>11.0</td>\n",
              "      <td>34.0</td>\n",
              "      <td>0.9978</td>\n",
              "      <td>3.51</td>\n",
              "      <td>0.56</td>\n",
              "      <td>9.4</td>\n",
              "      <td>0</td>\n",
              "    </tr>\n",
              "  </tbody>\n",
              "</table>\n",
              "</div>"
            ],
            "text/plain": [
              "   payment_history  location_parameter  stem_degree_score  gpa_ranking  \\\n",
              "0              7.4                0.70               0.00          1.9   \n",
              "1              7.8                0.88               0.00          2.6   \n",
              "2              7.8                0.76               0.04          2.3   \n",
              "3             11.2                0.28               0.56          1.9   \n",
              "4              7.4                0.70               0.00          1.9   \n",
              "\n",
              "   alumni_success  study_major_code  time_to_completion  \\\n",
              "0           0.076              11.0                34.0   \n",
              "1           0.098              25.0                67.0   \n",
              "2           0.092              15.0                54.0   \n",
              "3           0.075              17.0                60.0   \n",
              "4           0.076              11.0                34.0   \n",
              "\n",
              "   finance_workshop_score  cohort_ranking  total_loan_score  \\\n",
              "0                  0.9978            3.51              0.56   \n",
              "1                  0.9968            3.20              0.68   \n",
              "2                  0.9970            3.26              0.65   \n",
              "3                  0.9980            3.16              0.58   \n",
              "4                  0.9978            3.51              0.56   \n",
              "\n",
              "   financial_aid_score  credit_ranking  \n",
              "0                  9.4               0  \n",
              "1                  9.8               0  \n",
              "2                  9.8               0  \n",
              "3                  9.8               1  \n",
              "4                  9.4               0  "
            ]
          },
          "execution_count": 2,
          "metadata": {},
          "output_type": "execute_result"
        }
      ],
      "source": [
        "# Read the csv into a Pandas DataFrame\n",
        "file_path = \"https://static.bc-edx.com/ai/ail-v-1-0/m18/lms/datasets/student-loans.csv\"\n",
        "loans_df = pd.read_csv(file_path)\n",
        "\n",
        "# Review the DataFrame\n",
        "loans_df.head()"
      ]
    },
    {
      "cell_type": "code",
      "execution_count": 3,
      "metadata": {
        "colab": {
          "base_uri": "https://localhost:8080/"
        },
        "id": "K8ZYB8wx6q6x",
        "outputId": "b509fc34-4488-406e-e451-2069fec37371"
      },
      "outputs": [
        {
          "data": {
            "text/plain": [
              "payment_history           float64\n",
              "location_parameter        float64\n",
              "stem_degree_score         float64\n",
              "gpa_ranking               float64\n",
              "alumni_success            float64\n",
              "study_major_code          float64\n",
              "time_to_completion        float64\n",
              "finance_workshop_score    float64\n",
              "cohort_ranking            float64\n",
              "total_loan_score          float64\n",
              "financial_aid_score       float64\n",
              "credit_ranking              int64\n",
              "dtype: object"
            ]
          },
          "execution_count": 3,
          "metadata": {},
          "output_type": "execute_result"
        }
      ],
      "source": [
        "# Review the data types associated with the columns\n",
        "loans_df.dtypes"
      ]
    },
    {
      "cell_type": "code",
      "execution_count": 4,
      "metadata": {
        "colab": {
          "base_uri": "https://localhost:8080/"
        },
        "id": "9P8aX-dW75JO",
        "outputId": "63251fa8-5ac1-4112-c2f7-bc5d97ea8491"
      },
      "outputs": [
        {
          "data": {
            "text/plain": [
              "credit_ranking\n",
              "1    855\n",
              "0    744\n",
              "Name: count, dtype: int64"
            ]
          },
          "execution_count": 4,
          "metadata": {},
          "output_type": "execute_result"
        }
      ],
      "source": [
        "# Check the credit_ranking value counts\n",
        "loans_df[\"credit_ranking\"].value_counts()"
      ]
    },
    {
      "cell_type": "markdown",
      "metadata": {
        "id": "R6vbZeDH6q6y"
      },
      "source": [
        "### Step 2: Using the preprocessed data, create the features (`X`) and target (`y`) datasets. The target dataset should be defined by the preprocessed DataFrame column “credit_ranking”. The remaining columns should define the features dataset."
      ]
    },
    {
      "cell_type": "code",
      "execution_count": 5,
      "metadata": {
        "colab": {
          "base_uri": "https://localhost:8080/"
        },
        "id": "Q5eVAP5M6q6y",
        "outputId": "89728bbf-6930-4573-a126-9f1b66ed8859"
      },
      "outputs": [
        {
          "data": {
            "text/plain": [
              "0    0\n",
              "1    0\n",
              "2    0\n",
              "3    1\n",
              "4    0\n",
              "5    0\n",
              "6    0\n",
              "7    1\n",
              "8    1\n",
              "9    0\n",
              "Name: credit_ranking, dtype: int64"
            ]
          },
          "execution_count": 5,
          "metadata": {},
          "output_type": "execute_result"
        }
      ],
      "source": [
        "# Define the target set y using the credit_ranking column\n",
        "y = loans_df['credit_ranking']\n",
        "\n",
        "# Display a sample of y\n",
        "y[0:10]"
      ]
    },
    {
      "cell_type": "code",
      "execution_count": 6,
      "metadata": {
        "colab": {
          "base_uri": "https://localhost:8080/",
          "height": 226
        },
        "id": "IIkrD2Sn6q6z",
        "outputId": "ce07c4a3-fb81-4657-d11e-ec85ae8554c9"
      },
      "outputs": [
        {
          "data": {
            "text/html": [
              "<div>\n",
              "<style scoped>\n",
              "    .dataframe tbody tr th:only-of-type {\n",
              "        vertical-align: middle;\n",
              "    }\n",
              "\n",
              "    .dataframe tbody tr th {\n",
              "        vertical-align: top;\n",
              "    }\n",
              "\n",
              "    .dataframe thead th {\n",
              "        text-align: right;\n",
              "    }\n",
              "</style>\n",
              "<table border=\"1\" class=\"dataframe\">\n",
              "  <thead>\n",
              "    <tr style=\"text-align: right;\">\n",
              "      <th></th>\n",
              "      <th>payment_history</th>\n",
              "      <th>location_parameter</th>\n",
              "      <th>stem_degree_score</th>\n",
              "      <th>gpa_ranking</th>\n",
              "      <th>alumni_success</th>\n",
              "      <th>study_major_code</th>\n",
              "      <th>time_to_completion</th>\n",
              "      <th>finance_workshop_score</th>\n",
              "      <th>cohort_ranking</th>\n",
              "      <th>total_loan_score</th>\n",
              "      <th>financial_aid_score</th>\n",
              "    </tr>\n",
              "  </thead>\n",
              "  <tbody>\n",
              "    <tr>\n",
              "      <th>0</th>\n",
              "      <td>7.4</td>\n",
              "      <td>0.70</td>\n",
              "      <td>0.00</td>\n",
              "      <td>1.9</td>\n",
              "      <td>0.076</td>\n",
              "      <td>11.0</td>\n",
              "      <td>34.0</td>\n",
              "      <td>0.9978</td>\n",
              "      <td>3.51</td>\n",
              "      <td>0.56</td>\n",
              "      <td>9.4</td>\n",
              "    </tr>\n",
              "    <tr>\n",
              "      <th>1</th>\n",
              "      <td>7.8</td>\n",
              "      <td>0.88</td>\n",
              "      <td>0.00</td>\n",
              "      <td>2.6</td>\n",
              "      <td>0.098</td>\n",
              "      <td>25.0</td>\n",
              "      <td>67.0</td>\n",
              "      <td>0.9968</td>\n",
              "      <td>3.20</td>\n",
              "      <td>0.68</td>\n",
              "      <td>9.8</td>\n",
              "    </tr>\n",
              "    <tr>\n",
              "      <th>2</th>\n",
              "      <td>7.8</td>\n",
              "      <td>0.76</td>\n",
              "      <td>0.04</td>\n",
              "      <td>2.3</td>\n",
              "      <td>0.092</td>\n",
              "      <td>15.0</td>\n",
              "      <td>54.0</td>\n",
              "      <td>0.9970</td>\n",
              "      <td>3.26</td>\n",
              "      <td>0.65</td>\n",
              "      <td>9.8</td>\n",
              "    </tr>\n",
              "    <tr>\n",
              "      <th>3</th>\n",
              "      <td>11.2</td>\n",
              "      <td>0.28</td>\n",
              "      <td>0.56</td>\n",
              "      <td>1.9</td>\n",
              "      <td>0.075</td>\n",
              "      <td>17.0</td>\n",
              "      <td>60.0</td>\n",
              "      <td>0.9980</td>\n",
              "      <td>3.16</td>\n",
              "      <td>0.58</td>\n",
              "      <td>9.8</td>\n",
              "    </tr>\n",
              "    <tr>\n",
              "      <th>4</th>\n",
              "      <td>7.4</td>\n",
              "      <td>0.70</td>\n",
              "      <td>0.00</td>\n",
              "      <td>1.9</td>\n",
              "      <td>0.076</td>\n",
              "      <td>11.0</td>\n",
              "      <td>34.0</td>\n",
              "      <td>0.9978</td>\n",
              "      <td>3.51</td>\n",
              "      <td>0.56</td>\n",
              "      <td>9.4</td>\n",
              "    </tr>\n",
              "  </tbody>\n",
              "</table>\n",
              "</div>"
            ],
            "text/plain": [
              "   payment_history  location_parameter  stem_degree_score  gpa_ranking  \\\n",
              "0              7.4                0.70               0.00          1.9   \n",
              "1              7.8                0.88               0.00          2.6   \n",
              "2              7.8                0.76               0.04          2.3   \n",
              "3             11.2                0.28               0.56          1.9   \n",
              "4              7.4                0.70               0.00          1.9   \n",
              "\n",
              "   alumni_success  study_major_code  time_to_completion  \\\n",
              "0           0.076              11.0                34.0   \n",
              "1           0.098              25.0                67.0   \n",
              "2           0.092              15.0                54.0   \n",
              "3           0.075              17.0                60.0   \n",
              "4           0.076              11.0                34.0   \n",
              "\n",
              "   finance_workshop_score  cohort_ranking  total_loan_score  \\\n",
              "0                  0.9978            3.51              0.56   \n",
              "1                  0.9968            3.20              0.68   \n",
              "2                  0.9970            3.26              0.65   \n",
              "3                  0.9980            3.16              0.58   \n",
              "4                  0.9978            3.51              0.56   \n",
              "\n",
              "   financial_aid_score  \n",
              "0                  9.4  \n",
              "1                  9.8  \n",
              "2                  9.8  \n",
              "3                  9.8  \n",
              "4                  9.4  "
            ]
          },
          "execution_count": 6,
          "metadata": {},
          "output_type": "execute_result"
        }
      ],
      "source": [
        "# Define features set X by selecting all columns but credit_ranking\n",
        "X = loans_df.drop(columns='credit_ranking')\n",
        "\n",
        "# Review the features DataFrame\n",
        "X.head()"
      ]
    },
    {
      "cell_type": "markdown",
      "metadata": {
        "id": "QmM9c-tj6q6z"
      },
      "source": [
        "### Step 3: Split the features and target sets into training and testing datasets.\n"
      ]
    },
    {
      "cell_type": "code",
      "execution_count": 7,
      "metadata": {
        "id": "OD7xwU_96q6z"
      },
      "outputs": [],
      "source": [
        "# Split the preprocessed data into a training and testing dataset\n",
        "# Assign the function a random_state equal to 1\n",
        "X_train, X_test, y_train, y_test = train_test_split(X, y, random_state=1)"
      ]
    },
    {
      "cell_type": "markdown",
      "metadata": {
        "id": "G9i6DHY06q6z"
      },
      "source": [
        "### Step 4: Use scikit-learn's `StandardScaler` to scale the features data."
      ]
    },
    {
      "cell_type": "code",
      "execution_count": 8,
      "metadata": {
        "id": "BzD3z20m6q6z"
      },
      "outputs": [],
      "source": [
        "# Create a StandardScaler instance\n",
        "X_scaler = StandardScaler()\n",
        "\n",
        "# Fit the scaler to the features training dataset\n",
        "X_scaler.fit(X_train)\n",
        "\n",
        "# Fit the scaler to the features training dataset\n",
        "X_train_scaled = X_scaler.transform(X_train)\n",
        "X_test_scaled = X_scaler.transform(X_test)"
      ]
    },
    {
      "cell_type": "markdown",
      "metadata": {
        "id": "CZzVDjba6q6z"
      },
      "source": [
        "---\n",
        "\n",
        "## Compile and Evaluate a Model Using a Neural Network"
      ]
    },
    {
      "cell_type": "markdown",
      "metadata": {
        "id": "m-pSux4Q6q60"
      },
      "source": [
        "### Step 1: Create a deep neural network by assigning the number of input features, the number of layers, and the number of neurons on each layer using Tensorflow’s Keras.\n",
        "\n",
        "> **Hint** You can start with a two-layer deep neural network model that uses the `relu` activation function for both layers.\n"
      ]
    },
    {
      "cell_type": "code",
      "execution_count": 9,
      "metadata": {
        "colab": {
          "base_uri": "https://localhost:8080/"
        },
        "id": "t5C94FCd6q60",
        "outputId": "cbf05783-2f56-4745-cd33-649a6152e510"
      },
      "outputs": [],
      "source": [
        "# Define the the number of inputs (features) to the model\n",
        "input_nodes = len(X.columns)\n"
      ]
    },
    {
      "cell_type": "code",
      "execution_count": 10,
      "metadata": {
        "id": "c_KXDLkF6q60"
      },
      "outputs": [],
      "source": [
        "# Define the number of hidden nodes for the first hidden layer\n",
        "hn1 = 8\n",
        "\n",
        "# Define the number of hidden nodes for the second hidden layer\n",
        "hn2 = 6\n",
        "\n",
        "# Define the number of neurons in the output layer\n",
        "output_neurons = 1"
      ]
    },
    {
      "cell_type": "code",
      "execution_count": 11,
      "metadata": {
        "id": "63UdFncw6q60"
      },
      "outputs": [],
      "source": [
        "# Create the Sequential model instance\n",
        "nn_model = tf.keras.models.Sequential()\n",
        "\n",
        "# Add the first hidden layer\n",
        "nn_model.add(Dense(units=hn1, activation='relu', input_dim=input_nodes))\n",
        "\n",
        "# Add the second hidden layer\n",
        "nn_model.add(Dense(units=hn2, activation='relu'))\n",
        "\n",
        "# Add the output layer to the model specifying the number of output neurons and activation function\n",
        "nn_model.add(Dense(units=output_neurons, activation='sigmoid'))"
      ]
    },
    {
      "cell_type": "code",
      "execution_count": 12,
      "metadata": {
        "colab": {
          "base_uri": "https://localhost:8080/"
        },
        "id": "-Beoh4f_6q61",
        "outputId": "2e50f810-086b-4d89-bf7d-98afbe0d649d"
      },
      "outputs": [
        {
          "name": "stdout",
          "output_type": "stream",
          "text": [
            "Model: \"sequential\"\n",
            "_________________________________________________________________\n",
            " Layer (type)                Output Shape              Param #   \n",
            "=================================================================\n",
            " dense (Dense)               (None, 8)                 96        \n",
            "                                                                 \n",
            " dense_1 (Dense)             (None, 6)                 54        \n",
            "                                                                 \n",
            " dense_2 (Dense)             (None, 1)                 7         \n",
            "                                                                 \n",
            "=================================================================\n",
            "Total params: 157 (628.00 Byte)\n",
            "Trainable params: 157 (628.00 Byte)\n",
            "Non-trainable params: 0 (0.00 Byte)\n",
            "_________________________________________________________________\n"
          ]
        }
      ],
      "source": [
        "# Display the Sequential model summary\n",
        "nn_model.summary()"
      ]
    },
    {
      "cell_type": "markdown",
      "metadata": {
        "id": "nRqWGIRo6q61"
      },
      "source": [
        "### Step 2: Compile and fit the model using the `binary_crossentropy` loss function, the `adam` optimizer, and the `accuracy` evaluation metric.\n"
      ]
    },
    {
      "cell_type": "code",
      "execution_count": 13,
      "metadata": {
        "id": "E-hZaeSn6q61"
      },
      "outputs": [],
      "source": [
        "# Compile the Sequential model\n",
        "nn_model.compile(optimizer='adam', loss='binary_crossentropy', metrics=['accuracy'])\n"
      ]
    },
    {
      "cell_type": "code",
      "execution_count": 14,
      "metadata": {
        "colab": {
          "base_uri": "https://localhost:8080/"
        },
        "id": "x25e8Idc6q61",
        "outputId": "e95946ba-23da-47a3-a1c1-5e9a2a484a47"
      },
      "outputs": [
        {
          "name": "stdout",
          "output_type": "stream",
          "text": [
            "Epoch 1/50\n",
            "38/38 [==============================] - 0s 662us/step - loss: 0.7393 - accuracy: 0.5346\n",
            "Epoch 2/50\n",
            "38/38 [==============================] - 0s 554us/step - loss: 0.6645 - accuracy: 0.6130\n",
            "Epoch 3/50\n",
            "38/38 [==============================] - 0s 554us/step - loss: 0.6205 - accuracy: 0.6606\n",
            "Epoch 4/50\n",
            "38/38 [==============================] - 0s 514us/step - loss: 0.5892 - accuracy: 0.7023\n",
            "Epoch 5/50\n",
            "38/38 [==============================] - 0s 527us/step - loss: 0.5679 - accuracy: 0.7248\n",
            "Epoch 6/50\n",
            "38/38 [==============================] - 0s 548us/step - loss: 0.5550 - accuracy: 0.7281\n",
            "Epoch 7/50\n",
            "38/38 [==============================] - 0s 527us/step - loss: 0.5470 - accuracy: 0.7306\n",
            "Epoch 8/50\n",
            "38/38 [==============================] - 0s 716us/step - loss: 0.5413 - accuracy: 0.7331\n",
            "Epoch 9/50\n",
            "38/38 [==============================] - 0s 554us/step - loss: 0.5377 - accuracy: 0.7364\n",
            "Epoch 10/50\n",
            "38/38 [==============================] - 0s 554us/step - loss: 0.5353 - accuracy: 0.7323\n",
            "Epoch 11/50\n",
            "38/38 [==============================] - 0s 568us/step - loss: 0.5322 - accuracy: 0.7364\n",
            "Epoch 12/50\n",
            "38/38 [==============================] - 0s 554us/step - loss: 0.5298 - accuracy: 0.7364\n",
            "Epoch 13/50\n",
            "38/38 [==============================] - 0s 557us/step - loss: 0.5277 - accuracy: 0.7364\n",
            "Epoch 14/50\n",
            "38/38 [==============================] - 0s 554us/step - loss: 0.5256 - accuracy: 0.7364\n",
            "Epoch 15/50\n",
            "38/38 [==============================] - 0s 541us/step - loss: 0.5240 - accuracy: 0.7364\n",
            "Epoch 16/50\n",
            "38/38 [==============================] - 0s 541us/step - loss: 0.5223 - accuracy: 0.7364\n",
            "Epoch 17/50\n",
            "38/38 [==============================] - 0s 541us/step - loss: 0.5202 - accuracy: 0.7364\n",
            "Epoch 18/50\n",
            "38/38 [==============================] - 0s 568us/step - loss: 0.5182 - accuracy: 0.7398\n",
            "Epoch 19/50\n",
            "38/38 [==============================] - 0s 568us/step - loss: 0.5174 - accuracy: 0.7415\n",
            "Epoch 20/50\n",
            "38/38 [==============================] - 0s 541us/step - loss: 0.5152 - accuracy: 0.7406\n",
            "Epoch 21/50\n",
            "38/38 [==============================] - 0s 529us/step - loss: 0.5141 - accuracy: 0.7423\n",
            "Epoch 22/50\n",
            "38/38 [==============================] - 0s 568us/step - loss: 0.5119 - accuracy: 0.7415\n",
            "Epoch 23/50\n",
            "38/38 [==============================] - 0s 568us/step - loss: 0.5103 - accuracy: 0.7431\n",
            "Epoch 24/50\n",
            "38/38 [==============================] - 0s 554us/step - loss: 0.5090 - accuracy: 0.7465\n",
            "Epoch 25/50\n",
            "38/38 [==============================] - 0s 568us/step - loss: 0.5078 - accuracy: 0.7531\n",
            "Epoch 26/50\n",
            "38/38 [==============================] - 0s 568us/step - loss: 0.5060 - accuracy: 0.7548\n",
            "Epoch 27/50\n",
            "38/38 [==============================] - 0s 554us/step - loss: 0.5048 - accuracy: 0.7565\n",
            "Epoch 28/50\n",
            "38/38 [==============================] - 0s 582us/step - loss: 0.5038 - accuracy: 0.7565\n",
            "Epoch 29/50\n",
            "38/38 [==============================] - 0s 541us/step - loss: 0.5029 - accuracy: 0.7573\n",
            "Epoch 30/50\n",
            "38/38 [==============================] - 0s 568us/step - loss: 0.5015 - accuracy: 0.7573\n",
            "Epoch 31/50\n",
            "38/38 [==============================] - 0s 581us/step - loss: 0.5002 - accuracy: 0.7581\n",
            "Epoch 32/50\n",
            "38/38 [==============================] - 0s 554us/step - loss: 0.4996 - accuracy: 0.7598\n",
            "Epoch 33/50\n",
            "38/38 [==============================] - 0s 554us/step - loss: 0.4985 - accuracy: 0.7590\n",
            "Epoch 34/50\n",
            "38/38 [==============================] - 0s 676us/step - loss: 0.4970 - accuracy: 0.7598\n",
            "Epoch 35/50\n",
            "38/38 [==============================] - 0s 568us/step - loss: 0.4961 - accuracy: 0.7623\n",
            "Epoch 36/50\n",
            "38/38 [==============================] - 0s 568us/step - loss: 0.4951 - accuracy: 0.7598\n",
            "Epoch 37/50\n",
            "38/38 [==============================] - 0s 527us/step - loss: 0.4943 - accuracy: 0.7631\n",
            "Epoch 38/50\n",
            "38/38 [==============================] - 0s 532us/step - loss: 0.4931 - accuracy: 0.7648\n",
            "Epoch 39/50\n",
            "38/38 [==============================] - 0s 568us/step - loss: 0.4919 - accuracy: 0.7656\n",
            "Epoch 40/50\n",
            "38/38 [==============================] - 0s 527us/step - loss: 0.4911 - accuracy: 0.7623\n",
            "Epoch 41/50\n",
            "38/38 [==============================] - 0s 554us/step - loss: 0.4906 - accuracy: 0.7656\n",
            "Epoch 42/50\n",
            "38/38 [==============================] - 0s 568us/step - loss: 0.4892 - accuracy: 0.7656\n",
            "Epoch 43/50\n",
            "38/38 [==============================] - 0s 568us/step - loss: 0.4888 - accuracy: 0.7673\n",
            "Epoch 44/50\n",
            "38/38 [==============================] - 0s 568us/step - loss: 0.4873 - accuracy: 0.7665\n",
            "Epoch 45/50\n",
            "38/38 [==============================] - 0s 553us/step - loss: 0.4868 - accuracy: 0.7656\n",
            "Epoch 46/50\n",
            "38/38 [==============================] - 0s 546us/step - loss: 0.4853 - accuracy: 0.7690\n",
            "Epoch 47/50\n",
            "38/38 [==============================] - 0s 568us/step - loss: 0.4847 - accuracy: 0.7690\n",
            "Epoch 48/50\n",
            "38/38 [==============================] - 0s 541us/step - loss: 0.4839 - accuracy: 0.7690\n",
            "Epoch 49/50\n",
            "38/38 [==============================] - 0s 568us/step - loss: 0.4836 - accuracy: 0.7715\n",
            "Epoch 50/50\n",
            "38/38 [==============================] - 0s 539us/step - loss: 0.4819 - accuracy: 0.7690\n"
          ]
        }
      ],
      "source": [
        "# Fit the model using 50 epochs and the training data\n",
        "fit_model = nn_model.fit(X_train_scaled, y_train, epochs=50)"
      ]
    },
    {
      "cell_type": "markdown",
      "metadata": {
        "id": "RfHMPZVI6q61"
      },
      "source": [
        "### Step 3: Evaluate the model using the test data to determine the model’s loss and accuracy.\n"
      ]
    },
    {
      "cell_type": "code",
      "execution_count": 15,
      "metadata": {
        "colab": {
          "base_uri": "https://localhost:8080/"
        },
        "id": "5hfVADKo6q61",
        "outputId": "7df473ad-3301-4b49-e5c3-16e1687cc1cf"
      },
      "outputs": [
        {
          "name": "stdout",
          "output_type": "stream",
          "text": [
            "13/13 - 0s - loss: 0.5094 - accuracy: 0.7475 - 70ms/epoch - 5ms/step\n",
            "Loss: 0.5093716979026794, Accuracy: 0.7475000023841858\n"
          ]
        }
      ],
      "source": [
        "# Evaluate the model loss and accuracy metrics using the evaluate method and the test data\n",
        "model_loss, model_accuracy = nn_model.evaluate(X_test_scaled,y_test,verbose=2)\n",
        "\n",
        "# Display the model loss and accuracy results\n",
        "print(f\"Loss: {model_loss}, Accuracy: {model_accuracy}\")"
      ]
    },
    {
      "cell_type": "markdown",
      "metadata": {
        "id": "jpAv0rXA6q61"
      },
      "source": [
        "### Step 4: Save and export your model to a keras file, and name the file `student_loans.keras`.\n"
      ]
    },
    {
      "cell_type": "code",
      "execution_count": 16,
      "metadata": {
        "id": "q0MetN0W6q61"
      },
      "outputs": [
        {
          "name": "stdout",
          "output_type": "stream",
          "text": [
            "Model saved to student_loans.keras\n"
          ]
        }
      ],
      "source": [
        "# Set the model's file path\n",
        "path = 'student_loans.keras'\n",
        "\n",
        "# Export your model to a keras file\n",
        "nn_model.save(path)\n",
        "\n",
        "print(f\"Model saved to {path}\")\n"
      ]
    },
    {
      "cell_type": "markdown",
      "metadata": {
        "id": "R1opCDdN6q61"
      },
      "source": [
        "---\n",
        "## Predict Loan Repayment Success by Using your Neural Network Model"
      ]
    },
    {
      "cell_type": "markdown",
      "metadata": {
        "id": "TfIfpeiy6q61"
      },
      "source": [
        "### Step 1: Reload your saved model."
      ]
    },
    {
      "cell_type": "code",
      "execution_count": 17,
      "metadata": {
        "id": "OCET2mvW6q61"
      },
      "outputs": [
        {
          "name": "stdout",
          "output_type": "stream",
          "text": [
            "Model: \"sequential\"\n",
            "_________________________________________________________________\n",
            " Layer (type)                Output Shape              Param #   \n",
            "=================================================================\n",
            " dense (Dense)               (None, 8)                 96        \n",
            "                                                                 \n",
            " dense_1 (Dense)             (None, 6)                 54        \n",
            "                                                                 \n",
            " dense_2 (Dense)             (None, 1)                 7         \n",
            "                                                                 \n",
            "=================================================================\n",
            "Total params: 157 (628.00 Byte)\n",
            "Trainable params: 157 (628.00 Byte)\n",
            "Non-trainable params: 0 (0.00 Byte)\n",
            "_________________________________________________________________\n"
          ]
        }
      ],
      "source": [
        "# Set the model's file path\n",
        "path = 'student_loans.keras'\n",
        "\n",
        "# Load the model to a new object\n",
        "from tensorflow.keras.models import load_model\n",
        "loaded_model = load_model(path)\n",
        "\n",
        "# Verify the loaded model\n",
        "loaded_model.summary()"
      ]
    },
    {
      "cell_type": "markdown",
      "metadata": {
        "id": "rTPKooGw6q61"
      },
      "source": [
        "### Step 2: Make predictions on the testing data and save the predictions to a DataFrame."
      ]
    },
    {
      "cell_type": "code",
      "execution_count": 19,
      "metadata": {
        "colab": {
          "base_uri": "https://localhost:8080/"
        },
        "id": "Vet7qjgx6q62",
        "outputId": "0925af42-7e12-4978-8396-2a2c1580e1eb"
      },
      "outputs": [
        {
          "name": "stdout",
          "output_type": "stream",
          "text": [
            "13/13 - 0s - 28ms/epoch - 2ms/step\n"
          ]
        },
        {
          "data": {
            "text/plain": [
              "array([[0.27490515],\n",
              "       [0.42457902],\n",
              "       [0.8466233 ],\n",
              "       [0.760412  ],\n",
              "       [0.95671254],\n",
              "       [0.90906715],\n",
              "       [0.9317096 ],\n",
              "       [0.0610268 ],\n",
              "       [0.25747353],\n",
              "       [0.45189115],\n",
              "       [0.89156705],\n",
              "       [0.16905463],\n",
              "       [0.6315119 ],\n",
              "       [0.9302708 ],\n",
              "       [0.5836133 ],\n",
              "       [0.31627592],\n",
              "       [0.8648264 ],\n",
              "       [0.39447883],\n",
              "       [0.6221051 ],\n",
              "       [0.40806746],\n",
              "       [0.54582757],\n",
              "       [0.9046131 ],\n",
              "       [0.21670252],\n",
              "       [0.92029816],\n",
              "       [0.39013112],\n",
              "       [0.9124796 ],\n",
              "       [0.860121  ],\n",
              "       [0.64256185],\n",
              "       [0.3016343 ],\n",
              "       [0.27748674],\n",
              "       [0.446377  ],\n",
              "       [0.9700009 ],\n",
              "       [0.21871965],\n",
              "       [0.9508285 ],\n",
              "       [0.20413901],\n",
              "       [0.6484429 ],\n",
              "       [0.1755234 ],\n",
              "       [0.30398837],\n",
              "       [0.92568314],\n",
              "       [0.15902139],\n",
              "       [0.9106524 ],\n",
              "       [0.08619472],\n",
              "       [0.15507029],\n",
              "       [0.92336327],\n",
              "       [0.10849506],\n",
              "       [0.6474578 ],\n",
              "       [0.2563194 ],\n",
              "       [0.438576  ],\n",
              "       [0.36673507],\n",
              "       [0.78017163],\n",
              "       [0.05270432],\n",
              "       [0.10256975],\n",
              "       [0.9388851 ],\n",
              "       [0.09000497],\n",
              "       [0.15631004],\n",
              "       [0.70515996],\n",
              "       [0.77078986],\n",
              "       [0.6863656 ],\n",
              "       [0.9132929 ],\n",
              "       [0.14137898],\n",
              "       [0.7961369 ],\n",
              "       [0.12051059],\n",
              "       [0.24377985],\n",
              "       [0.4231802 ],\n",
              "       [0.06396324],\n",
              "       [0.30546224],\n",
              "       [0.94666773],\n",
              "       [0.47161475],\n",
              "       [0.67966294],\n",
              "       [0.9465642 ],\n",
              "       [0.20413901],\n",
              "       [0.90237767],\n",
              "       [0.63200825],\n",
              "       [0.73922133],\n",
              "       [0.14476812],\n",
              "       [0.47002795],\n",
              "       [0.89926714],\n",
              "       [0.11129558],\n",
              "       [0.12520559],\n",
              "       [0.8041188 ],\n",
              "       [0.74582165],\n",
              "       [0.17593984],\n",
              "       [0.10247303],\n",
              "       [0.66649276],\n",
              "       [0.55091256],\n",
              "       [0.14581196],\n",
              "       [0.17216413],\n",
              "       [0.7439428 ],\n",
              "       [0.38545963],\n",
              "       [0.6507425 ],\n",
              "       [0.19957547],\n",
              "       [0.94111675],\n",
              "       [0.19552885],\n",
              "       [0.9055858 ],\n",
              "       [0.7584392 ],\n",
              "       [0.28671193],\n",
              "       [0.8464439 ],\n",
              "       [0.5837445 ],\n",
              "       [0.59679526],\n",
              "       [0.87671524],\n",
              "       [0.69570005],\n",
              "       [0.22800468],\n",
              "       [0.24339575],\n",
              "       [0.15630607],\n",
              "       [0.17416336],\n",
              "       [0.4682707 ],\n",
              "       [0.75012463],\n",
              "       [0.43473232],\n",
              "       [0.83545876],\n",
              "       [0.23579353],\n",
              "       [0.9204485 ],\n",
              "       [0.6870928 ],\n",
              "       [0.867573  ],\n",
              "       [0.6794577 ],\n",
              "       [0.40611705],\n",
              "       [0.9805074 ],\n",
              "       [0.22624199],\n",
              "       [0.16909565],\n",
              "       [0.21974075],\n",
              "       [0.26111633],\n",
              "       [0.09445641],\n",
              "       [0.97657955],\n",
              "       [0.9535184 ],\n",
              "       [0.20498243],\n",
              "       [0.23615715],\n",
              "       [0.64810514],\n",
              "       [0.79396546],\n",
              "       [0.25411066],\n",
              "       [0.745272  ],\n",
              "       [0.6886233 ],\n",
              "       [0.39316574],\n",
              "       [0.2324974 ],\n",
              "       [0.95252126],\n",
              "       [0.1663841 ],\n",
              "       [0.7484078 ],\n",
              "       [0.81649226],\n",
              "       [0.13879214],\n",
              "       [0.9624035 ],\n",
              "       [0.36536926],\n",
              "       [0.45214385],\n",
              "       [0.25319096],\n",
              "       [0.6143023 ],\n",
              "       [0.46499598],\n",
              "       [0.17523101],\n",
              "       [0.8364229 ],\n",
              "       [0.9626397 ],\n",
              "       [0.48385325],\n",
              "       [0.13991416],\n",
              "       [0.72559   ],\n",
              "       [0.85082865],\n",
              "       [0.42974126],\n",
              "       [0.96156245],\n",
              "       [0.3051101 ],\n",
              "       [0.37156495],\n",
              "       [0.89638084],\n",
              "       [0.8875983 ],\n",
              "       [0.93814707],\n",
              "       [0.9117968 ],\n",
              "       [0.7839533 ],\n",
              "       [0.54499876],\n",
              "       [0.83271813],\n",
              "       [0.40527657],\n",
              "       [0.32670304],\n",
              "       [0.2166057 ],\n",
              "       [0.9499722 ],\n",
              "       [0.8608892 ],\n",
              "       [0.4001601 ],\n",
              "       [0.1628687 ],\n",
              "       [0.0828433 ],\n",
              "       [0.8531024 ],\n",
              "       [0.39788547],\n",
              "       [0.81321335],\n",
              "       [0.23049095],\n",
              "       [0.5352579 ],\n",
              "       [0.8778362 ],\n",
              "       [0.34655455],\n",
              "       [0.47636878],\n",
              "       [0.31644666],\n",
              "       [0.27163112],\n",
              "       [0.28671193],\n",
              "       [0.67959553],\n",
              "       [0.7336608 ],\n",
              "       [0.6525609 ],\n",
              "       [0.18890472],\n",
              "       [0.9589136 ],\n",
              "       [0.96279186],\n",
              "       [0.9087733 ],\n",
              "       [0.378408  ],\n",
              "       [0.19460817],\n",
              "       [0.16825698],\n",
              "       [0.19793046],\n",
              "       [0.61751723],\n",
              "       [0.5210474 ],\n",
              "       [0.30419308],\n",
              "       [0.73948836],\n",
              "       [0.41744766],\n",
              "       [0.72429216],\n",
              "       [0.378291  ],\n",
              "       [0.14821722],\n",
              "       [0.36959273],\n",
              "       [0.89796543],\n",
              "       [0.429073  ],\n",
              "       [0.9259577 ],\n",
              "       [0.247706  ],\n",
              "       [0.97919333],\n",
              "       [0.65863836],\n",
              "       [0.29055136],\n",
              "       [0.08445492],\n",
              "       [0.8867596 ],\n",
              "       [0.61232007],\n",
              "       [0.31429592],\n",
              "       [0.7418958 ],\n",
              "       [0.24339575],\n",
              "       [0.82443815],\n",
              "       [0.21582685],\n",
              "       [0.23879322],\n",
              "       [0.0897105 ],\n",
              "       [0.05541117],\n",
              "       [0.816741  ],\n",
              "       [0.55425394],\n",
              "       [0.6109741 ],\n",
              "       [0.32446137],\n",
              "       [0.29361218],\n",
              "       [0.18040742],\n",
              "       [0.7719065 ],\n",
              "       [0.6969049 ],\n",
              "       [0.6856359 ],\n",
              "       [0.71011734],\n",
              "       [0.9788042 ],\n",
              "       [0.6593946 ],\n",
              "       [0.26840445],\n",
              "       [0.31803447],\n",
              "       [0.927636  ],\n",
              "       [0.9087031 ],\n",
              "       [0.41892007],\n",
              "       [0.21110453],\n",
              "       [0.9266793 ],\n",
              "       [0.22661766],\n",
              "       [0.3345066 ],\n",
              "       [0.30113772],\n",
              "       [0.8673327 ],\n",
              "       [0.8600955 ],\n",
              "       [0.7732577 ],\n",
              "       [0.46509784],\n",
              "       [0.5555013 ],\n",
              "       [0.9543194 ],\n",
              "       [0.62461686],\n",
              "       [0.2849689 ],\n",
              "       [0.22303253],\n",
              "       [0.2797273 ],\n",
              "       [0.19959006],\n",
              "       [0.22354826],\n",
              "       [0.9683934 ],\n",
              "       [0.80047536],\n",
              "       [0.95562476],\n",
              "       [0.17748928],\n",
              "       [0.13398421],\n",
              "       [0.23729086],\n",
              "       [0.30589575],\n",
              "       [0.7523011 ],\n",
              "       [0.6488696 ],\n",
              "       [0.20980754],\n",
              "       [0.6576122 ],\n",
              "       [0.347789  ],\n",
              "       [0.3725636 ],\n",
              "       [0.72559   ],\n",
              "       [0.7230959 ],\n",
              "       [0.1702184 ],\n",
              "       [0.1795083 ],\n",
              "       [0.92711335],\n",
              "       [0.13468686],\n",
              "       [0.7131429 ],\n",
              "       [0.21114078],\n",
              "       [0.947018  ],\n",
              "       [0.18233627],\n",
              "       [0.5716461 ],\n",
              "       [0.54726017],\n",
              "       [0.81321335],\n",
              "       [0.648023  ],\n",
              "       [0.2910104 ],\n",
              "       [0.97189873],\n",
              "       [0.6225722 ],\n",
              "       [0.42951065],\n",
              "       [0.09211825],\n",
              "       [0.26046643],\n",
              "       [0.78081816],\n",
              "       [0.46622506],\n",
              "       [0.10527369],\n",
              "       [0.27593726],\n",
              "       [0.76368827],\n",
              "       [0.66557604],\n",
              "       [0.8648264 ],\n",
              "       [0.59974015],\n",
              "       [0.4125974 ],\n",
              "       [0.94048154],\n",
              "       [0.882319  ],\n",
              "       [0.14009899],\n",
              "       [0.91710323],\n",
              "       [0.21040751],\n",
              "       [0.19335292],\n",
              "       [0.38326073],\n",
              "       [0.8721243 ],\n",
              "       [0.12634163],\n",
              "       [0.7990543 ],\n",
              "       [0.3100159 ],\n",
              "       [0.5976313 ],\n",
              "       [0.14479831],\n",
              "       [0.94505066],\n",
              "       [0.5115311 ],\n",
              "       [0.09155384],\n",
              "       [0.1349373 ],\n",
              "       [0.7301754 ],\n",
              "       [0.21555893],\n",
              "       [0.91985977],\n",
              "       [0.6173114 ],\n",
              "       [0.7985299 ],\n",
              "       [0.2082134 ],\n",
              "       [0.25815308],\n",
              "       [0.93752855],\n",
              "       [0.9266793 ],\n",
              "       [0.3561774 ],\n",
              "       [0.59835345],\n",
              "       [0.98607904],\n",
              "       [0.14845571],\n",
              "       [0.41744766],\n",
              "       [0.30702466],\n",
              "       [0.09641752],\n",
              "       [0.97532594],\n",
              "       [0.73817396],\n",
              "       [0.8061849 ],\n",
              "       [0.8372803 ],\n",
              "       [0.18555611],\n",
              "       [0.40076786],\n",
              "       [0.42921767],\n",
              "       [0.52257556],\n",
              "       [0.260394  ],\n",
              "       [0.90715396],\n",
              "       [0.82443815],\n",
              "       [0.17826106],\n",
              "       [0.6022678 ],\n",
              "       [0.28257495],\n",
              "       [0.18297587],\n",
              "       [0.62588936],\n",
              "       [0.4221624 ],\n",
              "       [0.3725226 ],\n",
              "       [0.97682476],\n",
              "       [0.91445744],\n",
              "       [0.38579506],\n",
              "       [0.19491158],\n",
              "       [0.5068341 ],\n",
              "       [0.7418958 ],\n",
              "       [0.9768134 ],\n",
              "       [0.6512065 ],\n",
              "       [0.7411227 ],\n",
              "       [0.5333087 ],\n",
              "       [0.21708529],\n",
              "       [0.97489864],\n",
              "       [0.9302708 ],\n",
              "       [0.13879214],\n",
              "       [0.11443621],\n",
              "       [0.25947228],\n",
              "       [0.92438334],\n",
              "       [0.28105888],\n",
              "       [0.9643256 ],\n",
              "       [0.21941744],\n",
              "       [0.20193745],\n",
              "       [0.42461276],\n",
              "       [0.34636685],\n",
              "       [0.8012503 ],\n",
              "       [0.21110453],\n",
              "       [0.6805499 ],\n",
              "       [0.6359827 ],\n",
              "       [0.41079795],\n",
              "       [0.19657531],\n",
              "       [0.17566541],\n",
              "       [0.73642653],\n",
              "       [0.9773317 ],\n",
              "       [0.97060114],\n",
              "       [0.23879322],\n",
              "       [0.895562  ],\n",
              "       [0.8903181 ],\n",
              "       [0.7114798 ],\n",
              "       [0.8425365 ],\n",
              "       [0.8179009 ],\n",
              "       [0.2783352 ],\n",
              "       [0.8991538 ],\n",
              "       [0.13048293],\n",
              "       [0.6776842 ],\n",
              "       [0.7813021 ],\n",
              "       [0.3981071 ],\n",
              "       [0.23329115],\n",
              "       [0.38631672],\n",
              "       [0.38744187],\n",
              "       [0.7986596 ],\n",
              "       [0.23591967],\n",
              "       [0.6959582 ],\n",
              "       [0.38545963],\n",
              "       [0.927636  ],\n",
              "       [0.37798414],\n",
              "       [0.69431454]], dtype=float32)"
            ]
          },
          "execution_count": 19,
          "metadata": {},
          "output_type": "execute_result"
        }
      ],
      "source": [
        "# Make predictions with the test data\n",
        "predictions = loaded_model.predict(X_test_scaled,verbose=2)\n",
        "\n",
        "# Display a sample of the predictions\n",
        "predictions"
      ]
    },
    {
      "cell_type": "code",
      "execution_count": 20,
      "metadata": {
        "colab": {
          "base_uri": "https://localhost:8080/",
          "height": 424
        },
        "id": "87o8exFPhjfl",
        "outputId": "da5339c5-cea7-43e4-ec22-e168ea16dfa2"
      },
      "outputs": [
        {
          "data": {
            "text/html": [
              "<div>\n",
              "<style scoped>\n",
              "    .dataframe tbody tr th:only-of-type {\n",
              "        vertical-align: middle;\n",
              "    }\n",
              "\n",
              "    .dataframe tbody tr th {\n",
              "        vertical-align: top;\n",
              "    }\n",
              "\n",
              "    .dataframe thead th {\n",
              "        text-align: right;\n",
              "    }\n",
              "</style>\n",
              "<table border=\"1\" class=\"dataframe\">\n",
              "  <thead>\n",
              "    <tr style=\"text-align: right;\">\n",
              "      <th></th>\n",
              "      <th>Predicted</th>\n",
              "    </tr>\n",
              "  </thead>\n",
              "  <tbody>\n",
              "    <tr>\n",
              "      <th>157</th>\n",
              "      <td>1</td>\n",
              "    </tr>\n",
              "    <tr>\n",
              "      <th>273</th>\n",
              "      <td>1</td>\n",
              "    </tr>\n",
              "    <tr>\n",
              "      <th>45</th>\n",
              "      <td>1</td>\n",
              "    </tr>\n",
              "    <tr>\n",
              "      <th>331</th>\n",
              "      <td>0</td>\n",
              "    </tr>\n",
              "    <tr>\n",
              "      <th>352</th>\n",
              "      <td>1</td>\n",
              "    </tr>\n",
              "    <tr>\n",
              "      <th>296</th>\n",
              "      <td>0</td>\n",
              "    </tr>\n",
              "    <tr>\n",
              "      <th>351</th>\n",
              "      <td>1</td>\n",
              "    </tr>\n",
              "    <tr>\n",
              "      <th>382</th>\n",
              "      <td>1</td>\n",
              "    </tr>\n",
              "    <tr>\n",
              "      <th>181</th>\n",
              "      <td>1</td>\n",
              "    </tr>\n",
              "    <tr>\n",
              "      <th>254</th>\n",
              "      <td>1</td>\n",
              "    </tr>\n",
              "  </tbody>\n",
              "</table>\n",
              "</div>"
            ],
            "text/plain": [
              "     Predicted\n",
              "157          1\n",
              "273          1\n",
              "45           1\n",
              "331          0\n",
              "352          1\n",
              "296          0\n",
              "351          1\n",
              "382          1\n",
              "181          1\n",
              "254          1"
            ]
          },
          "execution_count": 20,
          "metadata": {},
          "output_type": "execute_result"
        }
      ],
      "source": [
        "# Save the predictions to a DataFrame and round the predictions to binary results\n",
        "predictions_df = pd.DataFrame((predictions > 0.5).astype(\"int32\"), columns=[\"Predicted\"])\n",
        "\n",
        "# Display a sample of the predictions\n",
        "predictions_df.sample(10)"
      ]
    },
    {
      "cell_type": "markdown",
      "metadata": {
        "id": "oxxLwycg6q62"
      },
      "source": [
        "### Step 4: Display a classification report with the y test data and predictions"
      ]
    },
    {
      "cell_type": "code",
      "execution_count": 21,
      "metadata": {
        "colab": {
          "base_uri": "https://localhost:8080/"
        },
        "id": "UTxYZibW6q67",
        "outputId": "f341b396-9b4c-478c-dba8-f6d904ba10e3"
      },
      "outputs": [
        {
          "name": "stdout",
          "output_type": "stream",
          "text": [
            "              precision    recall  f1-score   support\n",
            "\n",
            "           0       0.72      0.76      0.74       188\n",
            "           1       0.78      0.74      0.76       212\n",
            "\n",
            "    accuracy                           0.75       400\n",
            "   macro avg       0.75      0.75      0.75       400\n",
            "weighted avg       0.75      0.75      0.75       400\n",
            "\n"
          ]
        }
      ],
      "source": [
        "# Print the classification report with the y test data and predictions\n",
        "print(classification_report(y_test, predictions_df[\"Predicted\"]))"
      ]
    },
    {
      "cell_type": "markdown",
      "metadata": {
        "id": "8Aaof1tBtcp6"
      },
      "source": [
        "---\n",
        "## Discuss creating a recommendation system for student loans"
      ]
    },
    {
      "cell_type": "markdown",
      "metadata": {
        "id": "_CC8cNpNtcp6"
      },
      "source": [
        "\n",
        "Briefly answer the following questions:\n",
        " 1. Describe the data that you would need to collect to build a recommendation system to recommend student loan options for students. Explain why this data would be relevant and appropriate.\n",
        "\n",
        "\t  > To build a recommendation system for student loan options, the\n",
        "\t  > following data would be relevant:\n",
        "\t  > \n",
        "\t  > Student Demographics: Age, gender, location, and educational\n",
        "\t  > background. These factors can influence loan options and terms\n",
        "\t  > available to students.\n",
        "\t  > \n",
        "\t  > Academic Information: Current level of study (undergraduate,\n",
        "\t  > graduate), major, GPA, and university attended. Lenders may offer\n",
        "\t  > different terms based on academic performance and institution\n",
        "\t  > reputation.\n",
        "\t  > \n",
        "\t  > Financial Information: Income, existing debts, credit score, and\n",
        "\t  > financial aid status. These are critical for determining loan\n",
        "\t  > eligibility and interest rates.\n",
        "\t  > \n",
        "\t  > Loan Preferences: Preferred loan amount, repayment period, and\n",
        "\t  > interest rate type (fixed or variable). This helps tailor\n",
        "\t  > recommendations to student preferences.\n",
        "\t  > \n",
        "\t  > Historical Loan Data: Previous loans taken, repayment history, and\n",
        "\t  > loan default rates. Past behavior can predict future loan performance\n",
        "\t  > and suitability.\n",
        "\t  > \n",
        "\t  > This data is relevant because it provides a comprehensive view of the\n",
        "\t  > student's financial situation, academic standing, and loan\n",
        "\t  > preferences, which are crucial for making accurate and personalized\n",
        "\t  > loan recommendations.\n",
        "\n",
        "  \n",
        "\n",
        "2. Based on the data you chose to use in this recommendation system, would your model be using collaborative filtering, content-based filtering, or context-based filtering? Justify why the data you selected would be suitable for your choice of filtering method.\n",
        "\n",
        "\t> The model would primarily use content-based filtering. This method\n",
        "\t> focuses on the attributes of the items (in this case, loan options)\n",
        "\t> and the user's profile to make recommendations.\n",
        "\t> \n",
        "\t> Justification: The selected data includes detailed attributes of both\n",
        "\t> the students (users) and the loans (items), such as financial\n",
        "\t> information, academic performance, and loan preferences. Content-based\n",
        "\t> filtering leverages these attributes to match students with the most\n",
        "\t> suitable loan options based on their individual profiles.\n",
        "\t> \n",
        "\t> While collaborative filtering could also be used if we have access to\n",
        "\t> user interaction data (e.g., loans previously taken by similar\n",
        "\t> students), content-based filtering is more suitable given the\n",
        "\t> importance of matching specific loan terms and conditions to\n",
        "\t> individual student profiles.\n",
        "\n",
        "3. Describe two real-world challenges that you would take into consideration while building a recommendation system for student loans. Explain why these challenges would be of concern for a student loan recommendation system.\n",
        "\n",
        "\t>**Data Privacy and Security:**\n",
        "\t > *Concern:* Student loan data involves sensitive financial and personal\n",
        "\t> information. Ensuring data privacy and security is paramount to\n",
        "\t> protect students' identities and financial information from breaches\n",
        "\t> and misuse.\n",
        "\t> \n",
        "\t> *Impact:* Breaches can lead to identity theft and financial fraud,\n",
        "\t> eroding trust in the recommendation system and potentially leading to\n",
        "\t> legal consequences.\n",
        "\t> \n",
        "\t> **Bias and Fairness:**\n",
        "\t> *Concern:* The recommendation system must ensure fairness and avoid\n",
        "\t> biases that could disadvantage certain groups of students based on\n",
        "\t> their demographics, academic background, or financial status.\n",
        "\t> \n",
        "\t> *Impact:* Biases can lead to discriminatory recommendations, where some\n",
        "\t> students may consistently receive less favorable loan options. This\n",
        "\t> can exacerbate existing inequalities and reduce the system's overall\n",
        "\t> credibility and effectiveness.\n",
        "\t> \n",
        "\t> Addressing these challenges involves implementing robust data\n",
        "\t> protection measures and developing algorithms that are transparent and\n",
        "\t> fair, ensuring equitable access to loan opportunities for all\n",
        "\t> students.\n"
      ]
    }
  ],
  "metadata": {
    "colab": {
      "provenance": []
    },
    "kernelspec": {
      "display_name": "Python 3 (ipykernel)",
      "language": "python",
      "name": "python3"
    },
    "language_info": {
      "codemirror_mode": {
        "name": "ipython",
        "version": 3
      },
      "file_extension": ".py",
      "mimetype": "text/x-python",
      "name": "python",
      "nbconvert_exporter": "python",
      "pygments_lexer": "ipython3",
      "version": "3.10.13"
    }
  },
  "nbformat": 4,
  "nbformat_minor": 0
}
